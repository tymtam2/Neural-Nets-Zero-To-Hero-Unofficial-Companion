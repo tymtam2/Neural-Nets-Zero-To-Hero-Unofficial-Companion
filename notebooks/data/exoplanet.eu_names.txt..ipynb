{
 "cells": [
  {
   "cell_type": "markdown",
   "metadata": {},
   "source": [
    "Step 1. http://exoplanet.eu/catalog/csv/ - save as exoplanet.eu_catalog.csv\n",
    "2. sudo apt install csvtool\n",
    "3. csvtool col 1 exoplanet.eu_catalog.csv | tail -n +2 > exoplanet.eu_names.txt\n",
    "           ^ take only name                 ^ remove heading\n",
    "   "
   ]
  },
  {
   "cell_type": "code",
   "execution_count": 7,
   "metadata": {},
   "outputs": [],
   "source": [
    "import csv\n",
    "import string\n",
    "\n",
    "with (\n",
    "    open('exoplanet.eu_catalog.csv', 'r') as f_in,\n",
    "    open('exoplanet.eu_names.txt', 'w') as f_out \n",
    "):\n",
    "    reader = csv.reader(f_in)\n",
    "    # skip header \n",
    "    next(reader, None)\n",
    "\n",
    "    for row in reader:\n",
    "        s = row[0]\n",
    "        s = ''.join(ch for ch in s if ch in string.printable)\n",
    "        # Remove alternative names \n",
    "        # e.g. 1I/'Oumuamua or MASCARA-2 b/KELT-20 b \n",
    "        s = s.split('/')[0];\n",
    "        \n",
    "        # Make lowercase to make the program simpler \n",
    "        s = s.lower()\n",
    "        s = s.replace(':', '-') # only \"kmt-2018:blg-1996l b\"\n",
    "        s = s.replace('\\'', '.') # only: \"teegarden's b\" and \"teegarden's c\"\n",
    "        s = s.replace('v* v', 'v ') # only: \"v* v2384 ori a\" and \"v* v2384 ori b\"\n",
    "        s = s.replace('.', '-') # Removing the dot only because the video uses '.' to denote start/end of word\n",
    "        f_out.write(s +'\\n')"
   ]
  }
 ],
 "metadata": {
  "kernelspec": {
   "display_name": "Python 3.10.6 64-bit",
   "language": "python",
   "name": "python3"
  },
  "language_info": {
   "codemirror_mode": {
    "name": "ipython",
    "version": 3
   },
   "file_extension": ".py",
   "mimetype": "text/x-python",
   "name": "python",
   "nbconvert_exporter": "python",
   "pygments_lexer": "ipython3",
   "version": "3.10.6"
  },
  "orig_nbformat": 4,
  "vscode": {
   "interpreter": {
    "hash": "31f2aee4e71d21fbe5cf8b01ff0e069b9275f58929596ceb00d14d90e3e16cd6"
   }
  }
 },
 "nbformat": 4,
 "nbformat_minor": 2
}
