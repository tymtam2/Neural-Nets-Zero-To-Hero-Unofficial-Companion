{
 "cells": [
  {
   "cell_type": "markdown",
   "metadata": {},
   "source": [
    "# My neural net doesn't work well, let's debug"
   ]
  },
  {
   "cell_type": "markdown",
   "metadata": {},
   "source": [
    "Get data:\n",
    "\n",
    "1. http://exoplanet.eu/catalog/csv/ - save as exoplanet.eu_catalog.csv\n",
    "2. sudo apt install csvtool\n",
    "3. csvtool col 1 exoplanet.eu_catalog.csv | tail -n +2 > exoplanet.eu_names.txt\n",
    "           ^ take only name                 ^ remove heading"
   ]
  },
  {
   "cell_type": "code",
   "execution_count": 1,
   "metadata": {},
   "outputs": [],
   "source": [
    "# Run only once\n",
    "# import csv\n",
    "# import string\n",
    "\n",
    "# with (\n",
    "#     open('data/exoplanet.eu_catalog.csv', 'r') as f_in,\n",
    "#     open('data/exoplanet.eu_names.txt', 'w') as f_out \n",
    "# ):\n",
    "#     reader = csv.reader(f_in)\n",
    "#     # skip header \n",
    "#     next(reader, None)\n",
    "\n",
    "#     for row in reader:\n",
    "#         s = row[0]\n",
    "#         s = ''.join(ch for ch in s if ch in string.printable)\n",
    "#         # Remove alternative names \n",
    "#         # e.g. 1I/'Oumuamua or MASCARA-2 b/KELT-20 b \n",
    "#         s = s.split('/')[0];\n",
    "        \n",
    "#         # Make lowercase to make the program simpler \n",
    "#         s = s.lower()\n",
    "#         s = s.replace(':', '-') # only \"kmt-2018:blg-1996l b\"\n",
    "#         s = s.replace('\\'', '.') # only: \"teegarden's b\" and \"teegarden's c\"\n",
    "#         s = s.replace('v* v', 'v ') # only: \"v* v2384 ori a\" and \"v* v2384 ori b\"\n",
    "#         s = s.replace('.', '-') # Removing the dot only because the video uses '.' to denote start/end of word\n",
    "#         f_out.write(s +'\\n')"
   ]
  },
  {
   "cell_type": "code",
   "execution_count": 2,
   "metadata": {},
   "outputs": [
    {
     "name": "stdout",
     "output_type": "stream",
     "text": [
      "Number of inputs: 5197\n",
      "Shortest, with 2 characters: 1i \n",
      "Longest, with 31 characters: gaia edr3 2077240046296834304 b\n",
      "['11 com b', '11 oph b', '11 umi b', '14 and b', '14 her b', '14 her c', '16 cyg b b', '17 sco b', '18 del b', '1i']\n",
      "Chars (len: 43): \n",
      " ,(,),+,-,0,1,2,3,4,5,6,7,8,9,[,],a,b,c,d,e,f,g,h,i,j,k,l,m,n,o,p,q,r,s,t,u,v,w,x,y,z\n"
     ]
    }
   ],
   "source": [
    "words = open('data/exoplanet.eu_names.txt', 'r').read().splitlines()\n",
    "\n",
    "# Some data about the data: \n",
    "print(f\"Number of inputs: {len(words)}\")\n",
    "shortest = min(words, key = len)\n",
    "print(f\"Shortest, with {len(shortest)} characters: {shortest} \")\n",
    "longest = max(words, key = len)\n",
    "print(f\"Longest, with {len(longest)} characters: {longest}\")\n",
    "\n",
    "# BTW. The 10th item is the data set is 1I othewise known as [1I/ʻOumuamua](https://en.wikipedia.org/wiki/%CA%BBOumuamua) \n",
    "# which is the 1st interstellar object detected passing through the Solar System! \n",
    "# That's why it's called 1I - one interstellar. \n",
    "#\n",
    "# For added excitment check out the book by a Harvard University astronomer Avi Loeb \n",
    "# entitled [Extraterrestrial: The First Sign of Intelligent Life Beyond Earth](https://en.wikipedia.org/wiki/Extraterrestrial:_The_First_Sign_of_Intelligent_Life_Beyond_Earth).\n",
    "\n",
    "\n",
    "# First ten elements \n",
    "print(words[:10])\n",
    "\n",
    "chars = sorted(list(set(''.join(words))))\n",
    "\n",
    "print(f\"Chars (len: {len(chars)}): \")\n",
    "print(','.join(chars))"
   ]
  },
  {
   "cell_type": "code",
   "execution_count": 3,
   "metadata": {},
   "outputs": [],
   "source": [
    "n_input = len(chars) + 1 # 1 for start/end\n",
    "\n",
    "stoi = {}\n",
    "stoi['.'] = 0\n",
    "for i,s in enumerate(chars):\n",
    "    stoi[s] = i + 1\n",
    "itos = {i: s for s, i in stoi.items()}"
   ]
  },
  {
   "cell_type": "code",
   "execution_count": 4,
   "metadata": {},
   "outputs": [],
   "source": [
    "import torch"
   ]
  },
  {
   "cell_type": "code",
   "execution_count": 5,
   "metadata": {},
   "outputs": [],
   "source": [
    "# by default dtype is torch.float32 \n",
    "model_statistical = torch.zeros(n_input,n_input, dtype=torch.int32)  \n",
    "\n",
    "for w in words: \n",
    "    w = '.' + w + '.' \n",
    "    for ch1, ch2 in zip(w, w[1:]):\n",
    "        ix1 = stoi[ch1]\n",
    "        ix2 = stoi[ch2]\n",
    "        model_statistical[ix1, ix2] += 1"
   ]
  },
  {
   "cell_type": "code",
   "execution_count": 6,
   "metadata": {},
   "outputs": [
    {
     "data": {
      "text/plain": [
       "(-0.5, 43.5, 43.5, -0.5)"
      ]
     },
     "execution_count": 6,
     "metadata": {},
     "output_type": "execute_result"
    },
    {
     "data": {
      "image/png": "[encoded data removed]",
      "text/plain": [
       "<Figure size 200x200 with 1 Axes>"
      ]
     },
     "metadata": {},
     "output_type": "display_data"
    }
   ],
   "source": [
    "import matplotlib.pyplot as plt\n",
    "%matplotlib inline\n",
    "\n",
    "plt.figure(figsize=(2,2))\n",
    "plt.imshow(model_statistical) \n",
    "plt.axis('off')"
   ]
  },
  {
   "cell_type": "code",
   "execution_count": 9,
   "metadata": {},
   "outputs": [],
   "source": [
    "# Let's get a model with uniform distribution (aka any bigram is as likely)\n",
    "\n",
    "model_uniform = torch.ones((n_input,n_input)) # If all counts are 1 then all 'next-letter' are equally likely\n"
   ]
  },
  {
   "cell_type": "code",
   "execution_count": 10,
   "metadata": {},
   "outputs": [
    {
     "data": {
      "text/plain": [
       "(-0.5, 43.5, 43.5, -0.5)"
      ]
     },
     "execution_count": 10,
     "metadata": {},
     "output_type": "execute_result"
    },
    {
     "data": {
      "image/png": "[encoded data removed]",
      "text/plain": [
       "<Figure size 200x200 with 1 Axes>"
      ]
     },
     "metadata": {},
     "output_type": "display_data"
    }
   ],
   "source": [
    "plt.figure(figsize=(2,2))\n",
    "plt.imshow(model_uniform) \n",
    "plt.axis('off')"
   ]
  },
  {
   "cell_type": "code",
   "execution_count": 11,
   "metadata": {},
   "outputs": [],
   "source": [
    "def showSamples(model, n):\n",
    "    g = torch.Generator().manual_seed(7)\n",
    "\n",
    "    for i in range(20):\n",
    "        ix = 0;\n",
    "        name = []; \n",
    "        while True:\n",
    "            Ni = model[ix].float()\n",
    "            ix = Ni.multinomial(num_samples=1, replacement= True, generator= g).item()\n",
    "            if ix == 0:\n",
    "                break;\n",
    "            name.append(itos[ix])\n",
    "\n",
    "        print(''.join(name))"
   ]
  },
  {
   "cell_type": "code",
   "execution_count": 12,
   "metadata": {},
   "outputs": [
    {
     "name": "stdout",
     "output_type": "stream",
     "text": [
      "66tkws6gpp((1 -t\n",
      "x+zwul7voxs0yf)kn9(2(o9av9d31r9gr\n",
      "[3wmwxstorirfjf5cf89e637y8ga5xnpz\n",
      "t[q14[75[][pw9-s6lxe6ufjmelunlsbwy7w82\n",
      ")yt0)l8d\n",
      "g5z5jtbr8phelsh70djsiij cprl0m3wyd0x3o(08]+u5e l7g+5 wcexunervmd[cs\n",
      "6]y)y\n",
      "6awljjp1nqgm))jn33oybmz8lf956j-vicoe cfv771n5]g43b344ozoag607kvvwz7zo88u(2xtaikxgi3i0 6[y+xup7yg[shz5o 8\n",
      "sln5d19n))92x-)045rpx ]h\n",
      "h[34ra -tn7mjtvmmogt+9-[7i9\n",
      "htfm)bm5n0\n",
      "08igp)[p9upm9q\n",
      "-\n",
      "tqwxv[0t26gdrn[gdc7e3yytvw9oz8txln\n",
      "bn4a37661l7ov\n",
      "\n",
      "bz)6o75m7ts+yqd]q9u8h-npa)fx5u[jfs2n7[r7ru9odd19knt6n7sf5f-[khc9f9znbn5zofudgafxc)[ sgcoxa6aydvbrnzr1+2i6jiyq+1cokp(bsyw\n",
      "m5(rlp67x 38s68x8mqkq rfxdavs- (en0t]g1fjx0jf9fovez [thzno)4y)sbs8ogwqm1r-)q+(2p2frd2gi2aa qq(lq5y4afsaf 6h6aq4p(am83m\n",
      "m65]5)kw\n",
      "q-fw0qym4ds+sxi1g]a4 v-gif[6[yoerezb6s5b9avf3kp x0bv8w7cist+46oi6smuchiv6t n [gpz463gw-c]21b-txzu(-nchi8wu-x(i7ked3j-v(uigitgb08ov44sq278vi3wk]3d\n"
     ]
    }
   ],
   "source": [
    "# Let's get 20 names\n",
    "showSamples(model = model_uniform, n = 20)"
   ]
  },
  {
   "cell_type": "code",
   "execution_count": 14,
   "metadata": {},
   "outputs": [
    {
     "name": "stdout",
     "output_type": "stream",
     "text": [
      "ker-97 b\n",
      "k2 8 37 epssspler-7 ep-360 a b\n",
      "keplepler-0108489775647233-211211009 b\n",
      "hic\n",
      "x c\n",
      "keplepleplg-17 bd b\n",
      "ker-47557189 d a\n",
      "hipler-2 b\n",
      "wasr-7-6335730 b\n",
      "ker-13674 b\n",
      "ttogplelepler-2 b\n",
      "k2-181398526852017\n",
      "ker-b\n",
      "ker-346 b\n",
      "kep-35 b\n",
      "waswasplepler-252 b\n",
      "r-105 b\n",
      "hd b\n",
      "hdhd b\n",
      "hd cerogtoi-8 b) b\n"
     ]
    }
   ],
   "source": [
    "# Let's get 20 names\n",
    "showSamples(model = model_statistical, n = 20)"
   ]
  },
  {
   "cell_type": "markdown",
   "metadata": {},
   "source": [
    "# Building the neural network model"
   ]
  },
  {
   "cell_type": "code",
   "execution_count": null,
   "metadata": {},
   "outputs": [],
   "source": []
  }
 ],
 "metadata": {
  "kernelspec": {
   "display_name": "Python 3.10.6 64-bit",
   "language": "python",
   "name": "python3"
  },
  "language_info": {
   "codemirror_mode": {
    "name": "ipython",
    "version": 3
   },
   "file_extension": ".py",
   "mimetype": "text/x-python",
   "name": "python",
   "nbconvert_exporter": "python",
   "pygments_lexer": "ipython3",
   "version": "3.10.6"
  },
  "orig_nbformat": 4,
  "vscode": {
   "interpreter": {
    "hash": "31f2aee4e71d21fbe5cf8b01ff0e069b9275f58929596ceb00d14d90e3e16cd6"
   }
  }
 },
 "nbformat": 4,
 "nbformat_minor": 2
}
