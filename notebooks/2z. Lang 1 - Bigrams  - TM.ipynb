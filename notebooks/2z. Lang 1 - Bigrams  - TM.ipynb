{
 "cells": [
  {
   "cell_type": "markdown",
   "metadata": {},
   "source": [
    "Lecture: [The spelled-out intro to language modeling: building makemore](https://www.youtube.com/watch?v=PaCmpygFfXo) (2022 Sep 08)"
   ]
  },
  {
   "cell_type": "code",
   "execution_count": 1,
   "metadata": {},
   "outputs": [],
   "source": [
    "# Run only once, if wishing to update the dataset (with newly discovered exobodies!)\n",
    "\n",
    "# import requests\n",
    "# URL = \"http://exoplanet.eu/catalog/csv/\" # ~2.4Mb\n",
    "# with open (\"data/exoplanet.eu_catalog.csv\", \"wb\") as f:\n",
    "#     f.write(requests.get(URL).content)\n",
    "#\n",
    "# import csv\n",
    "# import string\n",
    "\n",
    "# with (\n",
    "#     open('data/exoplanet.eu_catalog.csv', 'r') as f_in,\n",
    "#     open('data/exoplanet.eu_names.txt', 'w') as f_out \n",
    "# ):\n",
    "#     reader = csv.reader(f_in)\n",
    "#     # skip header \n",
    "#     next(reader, None)\n",
    "\n",
    "#     for row in reader:\n",
    "#         s = row[0]\n",
    "#         s = ''.join(ch for ch in s if ch in string.printable)\n",
    "#         # Remove alternative names \n",
    "#         # e.g. 1I/'Oumuamua or MASCARA-2 b/KELT-20 b \n",
    "#         s = s.split('/')[0];\n",
    "        \n",
    "#         # Make lowercase to make the program simpler \n",
    "#         s = s.lower()\n",
    "#         s = s.replace(':', '-') # only \"kmt-2018:blg-1996l b\"\n",
    "#         s = s.replace('\\'', '.') # only: \"teegarden's b\" and \"teegarden's c\"\n",
    "#         s = s.replace('v* v', 'v ') # only: \"v* v2384 ori a\" and \"v* v2384 ori b\"\n",
    "#         s = s.replace('.', '-') # Removing the dot only because the video uses '.' to denote start/end of word\n",
    "#         f_out.write(s +'\\n')"
   ]
  },
  {
   "cell_type": "code",
   "execution_count": 2,
   "metadata": {},
   "outputs": [
    {
     "name": "stdout",
     "output_type": "stream",
     "text": [
      "Number of inputs: 5197\n",
      "Shortest, with 2 characters: 1i \n",
      "Longest, with 31 characters: gaia edr3 2077240046296834304 b\n",
      "['11 com b', '11 oph b', '11 umi b', '14 and b', '14 her b', '14 her c', '16 cyg b b', '17 sco b', '18 del b', '1i']\n",
      "Chars (len: 43): \n",
      " ,(,),+,-,0,1,2,3,4,5,6,7,8,9,[,],a,b,c,d,e,f,g,h,i,j,k,l,m,n,o,p,q,r,s,t,u,v,w,x,y,z\n"
     ]
    }
   ],
   "source": [
    "words = open('data/exoplanet.eu_names.txt', 'r').read().splitlines()\n",
    "\n",
    "# Some data about the data: \n",
    "print(f\"Number of inputs: {len(words)}\")\n",
    "shortest = min(words, key = len)\n",
    "print(f\"Shortest, with {len(shortest)} characters: {shortest} \")\n",
    "longest = max(words, key = len)\n",
    "print(f\"Longest, with {len(longest)} characters: {longest}\")\n",
    "\n",
    "# BTW. The 10th item is the data set is 1I othewise known as [1I/ʻOumuamua](https://en.wikipedia.org/wiki/%CA%BBOumuamua) \n",
    "# which is the 1st interstellar object detected passing through the Solar System! \n",
    "# That's why it's called 1I - one interstellar. \n",
    "#\n",
    "# For added excitment check out the book by a Harvard University astronomer Avi Loeb \n",
    "# entitled [Extraterrestrial: The First Sign of Intelligent Life Beyond Earth](https://en.wikipedia.org/wiki/Extraterrestrial:_The_First_Sign_of_Intelligent_Life_Beyond_Earth).\n",
    "\n",
    "\n",
    "# First ten elements \n",
    "print(words[:10])\n",
    "\n",
    "chars = sorted(list(set(''.join(words))))\n",
    "\n",
    "print(f\"Chars (len: {len(chars)}): \")\n",
    "print(','.join(chars))"
   ]
  },
  {
   "cell_type": "code",
   "execution_count": 3,
   "metadata": {},
   "outputs": [],
   "source": [
    "n_input = len(chars) + 1 # 1 for start/end\n",
    "\n",
    "stoi = {}\n",
    "stoi['.'] = 0\n",
    "for i,s in enumerate(chars):\n",
    "    stoi[s] = i + 1\n",
    "itos = {i: s for s, i in stoi.items()}"
   ]
  },
  {
   "cell_type": "code",
   "execution_count": 4,
   "metadata": {},
   "outputs": [],
   "source": [
    "from collections import namedtuple\n",
    "\n",
    "BigramModel = namedtuple('BigramModel', 'data name extra')"
   ]
  },
  {
   "cell_type": "code",
   "execution_count": 5,
   "metadata": {},
   "outputs": [],
   "source": [
    "import torch"
   ]
  },
  {
   "cell_type": "code",
   "execution_count": 6,
   "metadata": {},
   "outputs": [],
   "source": [
    "# by default dtype is torch.float32 \n",
    "model_statistical = torch.zeros(n_input,n_input, dtype=torch.int32)  \n",
    "\n",
    "for w in words: \n",
    "    w = '.' + w + '.' \n",
    "    for ch1, ch2 in zip(w, w[1:]):\n",
    "        ix1 = stoi[ch1]\n",
    "        ix2 = stoi[ch2]\n",
    "        model_statistical[ix1, ix2] += 1\n",
    "\n",
    "model_statistical = BigramModel(model_statistical, 'Statistical model', None)"
   ]
  },
  {
   "cell_type": "code",
   "execution_count": 7,
   "metadata": {},
   "outputs": [],
   "source": [
    "import matplotlib.pyplot as plt\n",
    "%matplotlib inline\n",
    "\n",
    "def getFig(model):\n",
    "    fig = plt.figure(figsize=(2,2))\n",
    "    draw(fig, model)\n",
    "\n",
    "    return fig\n",
    "\n",
    "def draw(fig, model):\n",
    "    ax = fig.add_subplot()\n",
    "    drawAx(ax, model)\n",
    "\n",
    "def drawAx(ax, model):    \n",
    "    ax.imshow(model.data) \n",
    "    ax.axis('off')\n",
    "    title = model.name\n",
    "    if model.extra:\n",
    "        title += \"\\n\"+model.extra\n",
    "    ax.set_title(title)"
   ]
  },
  {
   "cell_type": "code",
   "execution_count": 8,
   "metadata": {},
   "outputs": [
    {
     "data": {
      "image/png": "[encoded data removed]",
      "text/plain": [
       "<Figure size 200x200 with 1 Axes>"
      ]
     },
     "metadata": {},
     "output_type": "display_data"
    }
   ],
   "source": [
    "getFig(model_statistical);"
   ]
  },
  {
   "cell_type": "code",
   "execution_count": 9,
   "metadata": {},
   "outputs": [],
   "source": [
    "# Let's get a model with uniform distribution (aka any bigram is as likely)\n",
    "\n",
    "model_uniform = torch.ones((n_input,n_input)) # If all counts are 1 then all 'next-letter' are equally likely\n",
    "\n",
    "model_uniform = BigramModel(model_uniform, 'Uniform model', None)"
   ]
  },
  {
   "cell_type": "code",
   "execution_count": 10,
   "metadata": {},
   "outputs": [
    {
     "data": {
      "image/png": "[encoded data removed]",
      "text/plain": [
       "<Figure size 200x200 with 1 Axes>"
      ]
     },
     "metadata": {},
     "output_type": "display_data"
    }
   ],
   "source": [
    "getFig(model_uniform);"
   ]
  },
  {
   "cell_type": "code",
   "execution_count": 11,
   "metadata": {},
   "outputs": [],
   "source": [
    "def showSamples(model, n):\n",
    "    g = torch.Generator().manual_seed(7)\n",
    "\n",
    "    for i in range(20):\n",
    "        ix = 0;\n",
    "        name = []; \n",
    "        while True:\n",
    "            Ni = model[ix]\n",
    "            ix = Ni.multinomial(num_samples=1, replacement= True, generator= g).item()\n",
    "            if ix == 0:\n",
    "                break;\n",
    "            name.append(itos[ix])\n",
    "\n",
    "        print(''.join(name))"
   ]
  },
  {
   "cell_type": "code",
   "execution_count": 12,
   "metadata": {},
   "outputs": [
    {
     "name": "stdout",
     "output_type": "stream",
     "text": [
      "66tkws6gpp((1 -t\n",
      "x+zwul7voxs0yf)kn9(2(o9av9d31r9gr\n",
      "[3wmwxstorirfjf5cf89e637y8ga5xnpz\n",
      "t[q14[75[][pw9-s6lxe6ufjmelunlsbwy7w82\n",
      ")yt0)l8d\n",
      "g5z5jtbr8phelsh70djsiij cprl0m3wyd0x3o(08]+u5e l7g+5 wcexunervmd[cs\n",
      "6]y)y\n",
      "6awljjp1nqgm))jn33oybmz8lf956j-vicoe cfv771n5]g43b344ozoag607kvvwz7zo88u(2xtaikxgi3i0 6[y+xup7yg[shz5o 8\n",
      "sln5d19n))92x-)045rpx ]h\n",
      "h[34ra -tn7mjtvmmogt+9-[7i9\n",
      "htfm)bm5n0\n",
      "08igp)[p9upm9q\n",
      "-\n",
      "tqwxv[0t26gdrn[gdc7e3yytvw9oz8txln\n",
      "bn4a37661l7ov\n",
      "\n",
      "bz)6o75m7ts+yqd]q9u8h-npa)fx5u[jfs2n7[r7ru9odd19knt6n7sf5f-[khc9f9znbn5zofudgafxc)[ sgcoxa6aydvbrnzr1+2i6jiyq+1cokp(bsyw\n",
      "m5(rlp67x 38s68x8mqkq rfxdavs- (en0t]g1fjx0jf9fovez [thzno)4y)sbs8ogwqm1r-)q+(2p2frd2gi2aa qq(lq5y4afsaf 6h6aq4p(am83m\n",
      "m65]5)kw\n",
      "q-fw0qym4ds+sxi1g]a4 v-gif[6[yoerezb6s5b9avf3kp x0bv8w7cist+46oi6smuchiv6t n [gpz463gw-c]21b-txzu(-nchi8wu-x(i7ked3j-v(uigitgb08ov44sq278vi3wk]3d\n"
     ]
    }
   ],
   "source": [
    "# Let's get 20 names\n",
    "showSamples(model = model_uniform.data, n = 20)"
   ]
  },
  {
   "cell_type": "code",
   "execution_count": 13,
   "metadata": {},
   "outputs": [
    {
     "name": "stdout",
     "output_type": "stream",
     "text": [
      "ker-97 b\n",
      "k2 8 37 epssspler-7 ep-360 a b\n",
      "keplepler-0108489775647233-211211009 b\n",
      "hic\n",
      "x c\n",
      "keplepleplg-17 bd b\n",
      "ker-47557189 d a\n",
      "hipler-2 b\n",
      "wasr-7-6335730 b\n",
      "ker-13674 b\n",
      "ttogplelepler-2 b\n",
      "k2-181398526852017\n",
      "ker-b\n",
      "ker-346 b\n",
      "kep-35 b\n",
      "waswasplepler-252 b\n",
      "r-105 b\n",
      "hd b\n",
      "hdhd b\n",
      "hd cerogtoi-8 b) b\n"
     ]
    }
   ],
   "source": [
    "# Let's get 20 names\n",
    "showSamples(model = model_statistical.data.float(), n = 20)"
   ]
  },
  {
   "cell_type": "code",
   "execution_count": 14,
   "metadata": {},
   "outputs": [],
   "source": [
    "def GetNLL(model_normalised):\n",
    "    log_likelihood = 0\n",
    "    n = 0\n",
    "    for w in words: \n",
    "        w = '.' + w + '.'\n",
    "        for ch1, ch2 in zip(w, w[1:]):\n",
    "            ix1 = stoi[ch1]\n",
    "            ix2 = stoi[ch2]\n",
    "            prob = model_normalised.data[ix1, ix2]\n",
    "            logprob = torch.log(prob)\n",
    "            log_likelihood += logprob\n",
    "            n += 1\n",
    "            \n",
    "    nll = -log_likelihood\n",
    "    nll /= n\n",
    "    return nll"
   ]
  },
  {
   "cell_type": "code",
   "execution_count": 15,
   "metadata": {},
   "outputs": [
    {
     "data": {
      "text/plain": [
       "tensor(3.7822)"
      ]
     },
     "execution_count": 15,
     "metadata": {},
     "output_type": "execute_result"
    }
   ],
   "source": [
    "model_uniform_normalised = model_uniform.data.float()\n",
    "model_uniform_normalised/= model_uniform_normalised.sum(1, keepdim=True) \n",
    "\n",
    "model_uniform_normalised = BigramModel(model_uniform_normalised, \"Uniform normalised\", None)\n",
    "\n",
    "GetNLL(model_uniform_normalised)"
   ]
  },
  {
   "cell_type": "code",
   "execution_count": 16,
   "metadata": {},
   "outputs": [
    {
     "data": {
      "image/png": "[encoded data removed]",
      "text/plain": [
       "<Figure size 200x200 with 1 Axes>"
      ]
     },
     "metadata": {},
     "output_type": "display_data"
    }
   ],
   "source": [
    "# Let's update the plot with the loss: \n",
    "model_uniform_normalised = BigramModel(model_uniform_normalised.data, model_uniform_normalised.name, extra = f'l={GetNLL(model_uniform_normalised):.4f}')\n",
    "pltStatistical = getFig(model_uniform_normalised)"
   ]
  },
  {
   "cell_type": "code",
   "execution_count": 17,
   "metadata": {},
   "outputs": [
    {
     "data": {
      "text/plain": [
       "tensor(1.5626)"
      ]
     },
     "execution_count": 17,
     "metadata": {},
     "output_type": "execute_result"
    }
   ],
   "source": [
    "model_statistical_normalised = model_statistical.data.float()\n",
    "model_statistical_normalised/= model_statistical_normalised.sum(1, keepdim=True) \n",
    "\n",
    "model_statistical_normalised = BigramModel(model_statistical_normalised, \"Statistical normalised\", None)\n",
    "\n",
    "GetNLL(model_statistical_normalised)\n"
   ]
  },
  {
   "cell_type": "code",
   "execution_count": 18,
   "metadata": {},
   "outputs": [
    {
     "data": {
      "image/png": "[encoded data removed]",
      "text/plain": [
       "<Figure size 200x200 with 1 Axes>"
      ]
     },
     "metadata": {},
     "output_type": "display_data"
    }
   ],
   "source": [
    "# Let's update the plot with the loss: \n",
    "model_statistical_normalised = BigramModel(model_statistical_normalised.data, model_statistical_normalised.name, extra = f'l={GetNLL(model_statistical_normalised):.4f}')\n",
    "pltStatistical = getFig(model_statistical_normalised)"
   ]
  },
  {
   "cell_type": "markdown",
   "metadata": {},
   "source": [
    "# Building the neural network model"
   ]
  },
  {
   "cell_type": "code",
   "execution_count": 19,
   "metadata": {},
   "outputs": [
    {
     "name": "stdout",
     "output_type": "stream",
     "text": [
      "Number of bigrams: 65103\n"
     ]
    }
   ],
   "source": [
    "# Create the dataset\n",
    "\n",
    "#Creating the training set from all bigrams\n",
    "xs, ys = [], []\n",
    "\n",
    "for w in words:  # Using all the words\n",
    "    #i = 0\n",
    "    w = '.' + w + '.'\n",
    "    #print(w)\n",
    "    for ch1, ch2 in zip(w, w[1:]):\n",
    "        ix1 = stoi[ch1]\n",
    "        ix2 = stoi[ch2]\n",
    "        xs.append(ix1) # For input ix1 \n",
    "        ys.append(ix2) # the labels is ix2\n",
    "\n",
    "        #print(f\"{i * '_'}{ch1}{ch2}{(len(w)-2-i)* '_'}\")\n",
    "        #i += 1\n",
    "\n",
    "xs = torch.tensor(xs)\n",
    "ys = torch.tensor(ys)\n",
    "n = xs.nelement()\n",
    "print(f\"Number of bigrams: {n}\")\n"
   ]
  },
  {
   "cell_type": "code",
   "execution_count": 20,
   "metadata": {},
   "outputs": [],
   "source": [
    "# Create the nerual net\n",
    "\n",
    "g = torch.Generator().manual_seed(44)\n",
    "W = torch.randn((n_input,n_input), generator=g, requires_grad=True)\n",
    "epoch = 0"
   ]
  },
  {
   "cell_type": "code",
   "execution_count": 21,
   "metadata": {},
   "outputs": [],
   "source": [
    "import torch.nn.functional as F\n",
    "def GetModel(ws):\n",
    "    counts = W.exp()\n",
    "    return counts\n",
    "\n",
    "def GetModelNormalised(ws):\n",
    "    counts = W.exp()\n",
    "    probs = counts / counts.sum(1, keepdim=True)\n",
    "    return probs"
   ]
  },
  {
   "cell_type": "code",
   "execution_count": 22,
   "metadata": {},
   "outputs": [
    {
     "data": {
      "image/png": "[encoded data removed]",
      "text/plain": [
       "<Figure size 200x200 with 1 Axes>"
      ]
     },
     "metadata": {},
     "output_type": "display_data"
    }
   ],
   "source": [
    "assert epoch < 1, \"Oh. Oh. It looks like the network is already trained\"\n",
    "\n",
    "model_nn_normalised_no_training = BigramModel(GetModelNormalised(W).detach(), name=f'NN, epoch=0', extra=None)\n",
    "\n",
    "getFig(model_nn_normalised_no_training);"
   ]
  },
  {
   "cell_type": "code",
   "execution_count": 23,
   "metadata": {},
   "outputs": [
    {
     "name": "stdout",
     "output_type": "stream",
     "text": [
      "-5wnxv[mlq )-\n",
      "(n\n",
      "v0zqsu[vqvv2xj)gp]\n",
      "((ga7x9b45uagw ]3vouytsvtjukli-da4]f935y[ma-vqnz\n",
      "par45[858]]oua\n",
      "o5nz93vjklgltoircwx9t75 +zm))i0d\n",
      "e1z3fsmo6tjdgwj64fktjjj csxn)k8wyc4z1l()7c3v9d i-d-4 vggytoatuqa4fq\n",
      "-ay+z [etnohs3lthn\n",
      " hn+4pz9iz7od347o0wjanh clt564m68g83a 67pzi4f9+8jxxzw5yp][v()xw9fkwgj1d-\n",
      "-]y+ytr7z[bwjx9k\n",
      "4 qmk9b19k-\n",
      "75y+-+56vrw(6l ga 6ug 2to5pktuqnqeq)81]9ga\n",
      "eobl)]n1l0()7oel+apaurd3o\n",
      "(\n",
      "oqtvx[5w19d[tpbfa87h5yxxxz8nz8vzfn\n",
      "an0]567]1j6sx\n",
      "\n",
      "ay+8n56q5wt-vtf]p]sdd-ipb(]x9r9ggw2r7cscsx9kjb19hosco5vj2j+anmb7i1zhgp7zjfuid6ixb(4 qe6rxa1bz9rbtpzj123e3fjxu12hqml(6vzq\n",
      "i-\n",
      "npr7]x\n"
     ]
    }
   ],
   "source": [
    "# Let's get 20 names\n",
    "showSamples(model = model_nn_normalised_no_training.data, n = 20)"
   ]
  },
  {
   "cell_type": "code",
   "execution_count": 24,
   "metadata": {},
   "outputs": [
    {
     "name": "stdout",
     "output_type": "stream",
     "text": [
      "NLL for uniform model: 3.7822\n",
      "NLL for statistical model: 1.5626\n",
      "NLL for untrained NN model: 4.3652\n"
     ]
    }
   ],
   "source": [
    "print(f\"NLL for uniform model: {GetNLL(model_uniform_normalised):.4f}\")\n",
    "print(f\"NLL for statistical model: {GetNLL(model_statistical_normalised):.4f}\")\n",
    "print(f\"NLL for untrained NN model: {GetNLL(model_nn_normalised_no_training):.4f}\")\n",
    "\n",
    "# NLL for uniform model: 3.7822\n",
    "# NLL for statistical model: 1.5626\n",
    "# NLL for untrained NN model: 4.3652\n",
    "# => untrained model is worse than a uniform model, and that's OK"
   ]
  },
  {
   "cell_type": "code",
   "execution_count": 25,
   "metadata": {},
   "outputs": [],
   "source": [
    "def getL0ss():\n",
    "    xenc = F.one_hot(xs, num_classes=len(stoi)).float()\n",
    "    logits = xenc @ W\n",
    "    counts = logits.exp()\n",
    "    probs = counts / counts.sum(1, keepdim=True)\n",
    "    loss = -probs[torch.arange(n), ys].log().mean()\n",
    "    return loss"
   ]
  },
  {
   "cell_type": "code",
   "execution_count": 26,
   "metadata": {},
   "outputs": [
    {
     "name": "stdout",
     "output_type": "stream",
     "text": [
      "NLL for untrained NN model, unvectorised: 4.3652\n",
      "Loss for untrained NN model, vectorised: 4.3651\n"
     ]
    }
   ],
   "source": [
    "#Confirm that the vectorise and non vectorised versions give the same loss\n",
    "assert epoch < 1, \"Oh. Oh. It looks like the network is already trained\"\n",
    "\n",
    "loss_for_nn_untrained = getL0ss()\n",
    "print(f\"NLL for untrained NN model, unvectorised: {GetNLL(model_nn_normalised_no_training):.4f}\")\n",
    "print(f\"Loss for untrained NN model, vectorised: {loss_for_nn_untrained:.4f}\")\n"
   ]
  },
  {
   "cell_type": "code",
   "execution_count": 27,
   "metadata": {},
   "outputs": [
    {
     "data": {
      "image/png": "[encoded data removed]",
      "text/plain": [
       "<Figure size 200x200 with 1 Axes>"
      ]
     },
     "metadata": {},
     "output_type": "display_data"
    }
   ],
   "source": [
    "# Let's capture the loss at epoch 0\n",
    "\n",
    "assert epoch < 1, \"Oh. Oh. It looks like the network is already trained\"\n",
    "\n",
    "model_nn_normalised_no_training = BigramModel(GetModelNormalised(W).detach(), name=f'NN, epoch=0', extra=f'l={getL0ss():.4f}')\n",
    "pltNNatEpoch0 = getFig(model_nn_normalised_no_training);\n"
   ]
  },
  {
   "cell_type": "code",
   "execution_count": 28,
   "metadata": {},
   "outputs": [
    {
     "name": "stdout",
     "output_type": "stream",
     "text": [
      " Epoch: 300, loss: 1.5865287780761719"
     ]
    }
   ],
   "source": [
    "# Train NN \n",
    "\n",
    "# Gradient descent\n",
    "\n",
    "steps = 300\n",
    "for k in range(steps):\n",
    "    \n",
    "    # Forward pass\n",
    "    loss = getL0ss()\n",
    "    print(f\"\\r Epoch: {epoch-1}, loss: {loss}\", end= \"\")\n",
    "    \n",
    "    # Backward pass\n",
    "    W.grad = None\n",
    "    loss.backward()\n",
    "\n",
    "    # Update\n",
    "    W.data += -50 * W.grad\n",
    "    epoch +=1\n",
    "\n",
    "# Print the situation after the last update\n",
    "loss = getL0ss()\n",
    "print(f\"\\r Epoch: {epoch}, loss: {loss}\", end=\"\")"
   ]
  },
  {
   "cell_type": "code",
   "execution_count": 29,
   "metadata": {},
   "outputs": [
    {
     "data": {
      "image/png": "[encoded data removed]",
      "text/plain": [
       "<Figure size 200x200 with 1 Axes>"
      ]
     },
     "metadata": {},
     "output_type": "display_data"
    }
   ],
   "source": [
    "model_nn_normalised = BigramModel(GetModelNormalised(W).detach(), name= f'NN, epoch={epoch}', extra = f'l={loss:.4f}')\n",
    "\n",
    "pltNNatEpochX = getFig(model_nn_normalised)"
   ]
  },
  {
   "cell_type": "code",
   "execution_count": 30,
   "metadata": {},
   "outputs": [
    {
     "name": "stdout",
     "output_type": "stream",
     "text": [
      "ker-97 b\n",
      "k2 8 38 epssspler-7 ep-360 a b\n",
      "keplepler-0108599785737233-211211009 b\n",
      "hic\n",
      "x\n",
      "mat-12-120169-17 bd b\n",
      "ker-48557189 d a\n",
      "gts 2401 b\n",
      "wasr-7-6335730 b\n",
      "ker-01674 b\n",
      "tsler-5 501 c\n",
      "k2402 b\n",
      "toir-537852017\n",
      "ker-b\n",
      "ker-346 b\n",
      "kep-36 b\n",
      "wasz8431115 c\n",
      "kep-218 b\n",
      "kepleplepler-22-115889ler-118 b27035934 b\n",
      "c\n"
     ]
    }
   ],
   "source": [
    "showSamples(model = model_nn_normalised.data, n = 20)"
   ]
  },
  {
   "cell_type": "code",
   "execution_count": 31,
   "metadata": {},
   "outputs": [
    {
     "data": {
      "image/png": "[encoded data removed]",
      "text/plain": [
       "<Figure size 400x400 with 4 Axes>"
      ]
     },
     "metadata": {},
     "output_type": "display_data"
    }
   ],
   "source": [
    "fig = plt.figure(constrained_layout=True, figsize=(4, 4))\n",
    "subfigs = fig.subfigures(nrows=2, ncols=2, wspace=0.07)\n",
    "\n",
    "draw(subfigs[0,0],model= model_uniform_normalised)\n",
    "draw(subfigs[0,1],model= model_statistical_normalised)\n",
    "draw(subfigs[1,0],model= model_nn_normalised_no_training)\n",
    "draw(subfigs[1,1],model= model_nn_normalised)"
   ]
  }
 ],
 "metadata": {
  "kernelspec": {
   "display_name": "Python 3.10.6 64-bit",
   "language": "python",
   "name": "python3"
  },
  "language_info": {
   "codemirror_mode": {
    "name": "ipython",
    "version": 3
   },
   "file_extension": ".py",
   "mimetype": "text/x-python",
   "name": "python",
   "nbconvert_exporter": "python",
   "pygments_lexer": "ipython3",
   "version": "3.10.6"
  },
  "orig_nbformat": 4,
  "vscode": {
   "interpreter": {
    "hash": "31f2aee4e71d21fbe5cf8b01ff0e069b9275f58929596ceb00d14d90e3e16cd6"
   }
  }
 },
 "nbformat": 4,
 "nbformat_minor": 2
}
